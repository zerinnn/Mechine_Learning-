{
  "nbformat": 4,
  "nbformat_minor": 0,
  "metadata": {
    "colab": {
      "provenance": [],
      "mount_file_id": "1O9jOWIb3tEHjKKjV-tW2TTY_vvL4QTle",
      "authorship_tag": "ABX9TyPpt8mrRc67dywy1wze2PTr",
      "include_colab_link": true
    },
    "kernelspec": {
      "name": "python3",
      "display_name": "Python 3"
    },
    "language_info": {
      "name": "python"
    }
  },
  "cells": [
    {
      "cell_type": "markdown",
      "metadata": {
        "id": "view-in-github",
        "colab_type": "text"
      },
      "source": [
        "<a href=\"https://colab.research.google.com/github/zerinnn/Mechine_Learning-/blob/main/Lab_report01.ipynb\" target=\"_parent\"><img src=\"https://colab.research.google.com/assets/colab-badge.svg\" alt=\"Open In Colab\"/></a>"
      ]
    },
    {
      "cell_type": "code",
      "source": [
        "import pandas as pd\n",
        "import numpy as np\n",
        "from sklearn.linear_model import LinearRegression\n",
        "from sklearn.model_selection import train_test_split\n",
        "from sklearn.metrics import (\n",
        "    accuracy_score,\n",
        "    confusion_matrix,\n",
        "    precision_score,\n",
        "    recall_score,\n",
        "    f1_score\n",
        ")\n",
        "\n",
        "\n",
        "data = pd.read_csv(\"/content/drive/MyDrive/ML/diabetes.csv\")\n",
        "\n",
        "\n",
        "print(\"Initial 5 Rows of Dataset:\")\n",
        "print(data.head())\n",
        "\n",
        "\n",
        "features_with_zeros = ['Glucose', 'BloodPressure', 'SkinThickness', 'Insulin', 'BMI']\n",
        "for feature in features_with_zeros:\n",
        "    zero_count = (data[feature] == 0).sum()\n",
        "    if zero_count > 0:\n",
        "        data[feature] = data[feature].replace(0, np.nan)\n",
        "        data[feature] = data[feature].fillna(data[feature].mean())\n",
        "\n",
        "\n",
        "glucose_max = data['Glucose'].max()\n",
        "data.loc[0, 'Glucose'] = glucose_max\n",
        "\n",
        "\n",
        "youngest_age = data['Age'].min()\n",
        "glucose_min = data['Glucose'].min()\n",
        "data.loc[data['Age'] == youngest_age, 'Glucose'] = glucose_min\n",
        "\n",
        "print(\"\\nCleaned Dataset (First 5 Rows):\")\n",
        "print(data.head())\n",
        "\n",
        "\n",
        "input_features = data.drop('Outcome', axis=1)\n",
        "labels = data['Outcome']\n",
        "\n",
        "\n",
        "train_X, test_X, train_y, test_y = train_test_split(\n",
        "    input_features, labels, test_size=0.3, random_state=11\n",
        ")\n",
        "\n",
        "\n",
        "lin_reg = LinearRegression()\n",
        "lin_reg.fit(train_X, train_y)\n",
        "\n",
        "\n",
        "predicted_values = lin_reg.predict(test_X)\n",
        "final_preds = np.round(predicted_values)\n",
        "\n",
        "acc = accuracy_score(test_y, final_preds)\n",
        "cmatrix = confusion_matrix(test_y, final_preds)\n",
        "prec = precision_score(test_y, final_preds)\n",
        "rec = recall_score(test_y, final_preds)\n",
        "f1 = f1_score(test_y, final_preds)\n",
        "\n",
        "print(\"\\n  Model Performance \")\n",
        "print(f\"Prediction Accuracy : {acc:.2f}\")\n",
        "print(\"Confusion Matrix :\\n\", cmatrix)\n",
        "print(f\"Precision          : {prec:.2f}\")\n",
        "print(f\"Recall             : {rec:.2f}\")\n",
        "print(f\"F1 Score           : {f1:.2f}\")\n"
      ],
      "metadata": {
        "colab": {
          "base_uri": "https://localhost:8080/"
        },
        "id": "c4OErG_n9Kiy",
        "outputId": "b915393f-a829-4850-c933-62396716122e"
      },
      "execution_count": null,
      "outputs": [
        {
          "output_type": "stream",
          "name": "stdout",
          "text": [
            "Initial 5 Rows of Dataset:\n",
            "   Pregnancies  Glucose  BloodPressure  SkinThickness  Insulin   BMI  \\\n",
            "0            6      148             72             35        0  33.6   \n",
            "1            1       85             66             29        0  26.6   \n",
            "2            8      183             64              0        0  23.3   \n",
            "3            1       89             66             23       94  28.1   \n",
            "4            0      137             40             35      168  43.1   \n",
            "\n",
            "   DiabetesPedigreeFunction  Age  Outcome  \n",
            "0                     0.627   50        1  \n",
            "1                     0.351   31        0  \n",
            "2                     0.672   32        1  \n",
            "3                     0.167   21        0  \n",
            "4                     2.288   33        1  \n",
            "\n",
            "Cleaned Dataset (First 5 Rows):\n",
            "   Pregnancies  Glucose  BloodPressure  SkinThickness     Insulin   BMI  \\\n",
            "0            6    199.0           72.0       35.00000  155.548223  33.6   \n",
            "1            1     85.0           66.0       29.00000  155.548223  26.6   \n",
            "2            8    183.0           64.0       29.15342  155.548223  23.3   \n",
            "3            1     44.0           66.0       23.00000   94.000000  28.1   \n",
            "4            0    137.0           40.0       35.00000  168.000000  43.1   \n",
            "\n",
            "   DiabetesPedigreeFunction  Age  Outcome  \n",
            "0                     0.627   50        1  \n",
            "1                     0.351   31        0  \n",
            "2                     0.672   32        1  \n",
            "3                     0.167   21        0  \n",
            "4                     2.288   33        1  \n",
            "\n",
            "  Model Performance \n",
            "Prediction Accuracy : 0.79\n",
            "Confusion Matrix :\n",
            " [[138  11]\n",
            " [ 38  44]]\n",
            "Precision          : 0.80\n",
            "Recall             : 0.54\n",
            "F1 Score           : 0.64\n"
          ]
        }
      ]
    }
  ]
}